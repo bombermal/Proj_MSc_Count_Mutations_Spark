{
 "cells": [
  {
   "cell_type": "markdown",
   "id": "5451db05",
   "metadata": {},
   "source": [
    "# Imports"
   ]
  },
  {
   "cell_type": "code",
   "execution_count": 3,
   "id": "f37c5f53",
   "metadata": {
    "ExecuteTime": {
     "end_time": "2021-07-11T01:48:13.014833Z",
     "start_time": "2021-07-11T01:48:12.632844Z"
    }
   },
   "outputs": [],
   "source": [
    "import numpy as np # Lida com arrays\n",
    "import random      # Gera valores  aleatórios\n",
    "import timeit      # Marca o tempo\n",
    "import matplotlib.pyplot as plt # Gera os gráficos\n",
    "from tqdm import tqdm           # Barra de progresso para o código\n",
    "\n",
    "# Bibliotecas para utilizar o Spark\n",
    "import findspark                     # Encontra o Spark\n",
    "from pyspark.sql import SparkSession # Inicia a sessão do Spark\n",
    "findspark.init()"
   ]
  },
  {
   "cell_type": "markdown",
   "id": "667f2562",
   "metadata": {},
   "source": [
    "# Load fasta"
   ]
  },
  {
   "cell_type": "code",
   "execution_count": 5,
   "id": "97ecabae",
   "metadata": {
    "ExecuteTime": {
     "end_time": "2021-07-09T22:39:07.204983Z",
     "start_time": "2021-07-09T22:39:07.181981Z"
    }
   },
   "outputs": [
    {
     "data": {
      "text/plain": [
       "'>hCoV-19/USA/WA-S88/2020|EPI_ISL_417141|2020-03-01\\n-------------------------------------------------'"
      ]
     },
     "execution_count": 5,
     "metadata": {},
     "output_type": "execute_result"
    }
   ],
   "source": [
    "# Local do arquivo\n",
    "path = 'D:\\Ivan\\Downloads\\human_cov2020_sequences.aln.fasta'\n",
    "\n",
    "# Abre o arquivo e lê\n",
    "raw = open(path).read()\n",
    "# Visualização parcial\n",
    "raw[:100]"
   ]
  },
  {
   "cell_type": "code",
   "execution_count": 6,
   "id": "611fc357",
   "metadata": {
    "ExecuteTime": {
     "end_time": "2021-07-09T22:39:09.212022Z",
     "start_time": "2021-07-09T22:39:09.166027Z"
    }
   },
   "outputs": [
    {
     "data": {
      "text/plain": [
       "'----------'"
      ]
     },
     "execution_count": 6,
     "metadata": {},
     "output_type": "execute_result"
    }
   ],
   "source": [
    "# Separa as amostras do arquivo usando o '>'\n",
    "# como identificador de início de sequência\n",
    "file = raw.split('>')\n",
    "# O split gera elementos vazios na lista,\n",
    "# por isso precisamos removê-los\n",
    "# Remove vazios\n",
    "file = [ x for x in file if x]\n",
    "# Agora separamos cada sequência do seu identificador,\n",
    "# utilizando o '\\n' como guia\n",
    "file = np.array([x.split('\\n', 1) for x in file])\n",
    "# O resultado dos passos anteriores gera listas dentro de\n",
    "# listas, por isso precisamos remove as listas aninhadas\n",
    "file = file.flatten()\n",
    "# Agora removemos as quebras de linhas de dentro \n",
    "# das sequências\n",
    "file = [x.replace('\\n', '') for x in file]\n",
    "# Como o resultado é uma lista contendo o cabeçalho da\n",
    "# seguido da sequência de maneira intercalada\n",
    "# utilizamos isso para criar listas separadas de\n",
    "# cabeçalhos e sequências\n",
    "seqList = np.array([ file[idx] for idx in range(len(file)) if idx%2!=0])\n",
    "seqList[0][:10]"
   ]
  },
  {
   "cell_type": "code",
   "execution_count": 7,
   "id": "8f68af96",
   "metadata": {
    "ExecuteTime": {
     "end_time": "2021-07-09T22:39:13.518616Z",
     "start_time": "2021-07-09T22:39:13.169583Z"
    }
   },
   "outputs": [],
   "source": [
    "# Transformando a string da seqência em uma lista\n",
    "seqList = [list(x) for x in seqList]\n",
    "# Removendo sequências com tamanho errado\n",
    "tam = max(len(l) for l in seqList)\n",
    "seqList = [ sub for sub in seqList if len(sub) == tam]\n",
    "# Transformando em matriz\n",
    "seqList = np.array(seqList)"
   ]
  },
  {
   "cell_type": "markdown",
   "id": "48b42c69",
   "metadata": {},
   "source": [
    "# Contagem usando CPU"
   ]
  },
  {
   "cell_type": "code",
   "execution_count": 8,
   "id": "062d004b",
   "metadata": {
    "ExecuteTime": {
     "end_time": "2021-07-09T22:49:54.491048Z",
     "start_time": "2021-07-09T22:49:54.234025Z"
    }
   },
   "outputs": [
    {
     "name": "stdout",
     "output_type": "stream",
     "text": [
      "CPU\n",
      "Tempo de execução: 0.50771s\n"
     ]
    }
   ],
   "source": [
    "AMNO = list('ARNDCQEGHILKMFPOSUTWYVBZXJ')\n",
    "NUCL = list('ATCG')\n",
    "\n",
    "def countPos(mtrx):\n",
    "    \"\"\"\n",
    "        Conta o número de mutações\n",
    "    \"\"\"\n",
    "    columns = mtrx.shape[0]\n",
    "    resp = []\n",
    "    for ii in range(columns):\n",
    "        resp.append(np.char.count(\"\".join(mtrx[:,ii]), AMNO))\n",
    "\n",
    "    return resp\n",
    "\n",
    "# Marca o inicio do processo\n",
    "start = timeit.default_timer()\n",
    "\n",
    "# Conta as mutações\n",
    "finalCPU = countPos(seqList)\n",
    "\n",
    "# Marca o fim do processo\n",
    "stop = timeit.default_timer()\n",
    "# Mostra o resultado\n",
    "print(f'CPU\\nTempo de execução: {stop - start:.5f}s')"
   ]
  },
  {
   "cell_type": "markdown",
   "id": "35fece88",
   "metadata": {},
   "source": [
    "# Contagem com o Spark"
   ]
  },
  {
   "cell_type": "code",
   "execution_count": 9,
   "id": "c73ca83e",
   "metadata": {
    "ExecuteTime": {
     "end_time": "2021-07-09T22:52:01.942748Z",
     "start_time": "2021-07-09T22:51:58.245976Z"
    }
   },
   "outputs": [
    {
     "name": "stdout",
     "output_type": "stream",
     "text": [
      "Spark\n",
      "Tempo de execução: 7.40283s\n"
     ]
    }
   ],
   "source": [
    "# Marca o inicio do processo\n",
    "start = timeit.default_timer()\n",
    "\n",
    "# Inicializar  o Spark\n",
    "spark:SparkSession = SparkSession.builder \\\n",
    "    .master(\"local[*]\") \\\n",
    "    .appName(\"Conta_Mutacoes\") \\\n",
    "    .getOrCreate()\n",
    "\n",
    "# 1 - np.transpose é utilizado para inverter as posições das\n",
    "# colunas e das linhas\n",
    "# 2 - parallelize distribui os processos entre os recursos\n",
    "# disponíveis, nesse exemplo núcleos do processador\n",
    "# 3 - map, aplica uma função para cada subdivisão passada pelo RDD\n",
    "# 4 - Lambda, recebe a função que faz a contagem dos caracteres\n",
    "\n",
    "rdd = spark.sparkContext.parallelize(np.transpose(seqList))\\\n",
    "      .map(lambda x: np.char.count(\"\".join(x), AMNO))\n",
    "\n",
    "# Armazena o resultado gerado pelo Spark\n",
    "finalSpark = rdd.collect()\n",
    "\n",
    "# Finaliza o processod o Spark\n",
    "spark.stop()\n",
    "# Marca o fim do processo\n",
    "stop = timeit.default_timer()\n",
    "# Mostra o resultado\n",
    "print(f'Spark\\nTempo de execução: {stop - start:.5f}s')"
   ]
  },
  {
   "cell_type": "markdown",
   "id": "1077f03a",
   "metadata": {},
   "source": [
    "# Demonstração do tempo de execução"
   ]
  },
  {
   "cell_type": "markdown",
   "id": "ac3d3177",
   "metadata": {},
   "source": [
    "### Criando sequências artificias ( Testes )"
   ]
  },
  {
   "cell_type": "code",
   "execution_count": 9,
   "id": "23c85b0a",
   "metadata": {
    "ExecuteTime": {
     "end_time": "2021-07-11T00:40:59.651520Z",
     "start_time": "2021-07-11T00:40:59.631519Z"
    }
   },
   "outputs": [],
   "source": [
    "# Lista de aminoácidos e nucleotídeos\n",
    "AMNO = list('ARNDCQEGHILKMFPOSUTWYVBZXJ')\n",
    "NUCL = list('ATCG')\n",
    "\n",
    "def save(name, seqSize, tempList):\n",
    "    \n",
    "    file = open(name,'w')\n",
    "    for idx, ii in enumerate(seqSize):\n",
    "        file.write(f'{ii},{tempList[idx]}\\n')\n",
    "\n",
    "    file.close()\n",
    "\n",
    "def countPos(nucleotides, mtrx):\n",
    "    \"\"\"\n",
    "        Conta o número de mutações\n",
    "    \"\"\"\n",
    "    _, columns = mtrx.shape\n",
    "    resp = []\n",
    "    for ii in range(columns):\n",
    "        resp.append(np.char.count(\"\".join(mtrx[:,ii]), nucleotides))\n",
    "\n",
    "    return resp\n",
    "\n",
    "def buildSeq(nucleotides, size=10):\n",
    "    \"\"\"\n",
    "        Constrói uma sequência com um tamanho determinado\n",
    "    \"\"\"\n",
    "    aux = ''\n",
    "    for _ in range(size):\n",
    "        aux = aux + random.choice(nucleotides)\n",
    "        \n",
    "    return np.array(list(aux))\n",
    "\n",
    "def buildMut(seq, nucleotides):\n",
    "    \"\"\"\n",
    "        Cria cópias da sequência de entrada com pequenas mutações\n",
    "    \"\"\"\n",
    "    aux = list(seq)\n",
    "    for idx, ii in enumerate(aux):\n",
    "        if random.random() <= .12:\n",
    "            aux[idx] = random.choice(nucleotides)\n",
    "            \n",
    "    return np.array(aux)\n",
    "\n",
    "def baseMatrix(seq, nucleotides, n=10):\n",
    "    \"\"\"\n",
    "        Pega a a sequência de entrada, cria as outras sequências\n",
    "        e armazena tudo em uma matriz\n",
    "    \"\"\"\n",
    "    \n",
    "    aux = [seq]\n",
    "    \n",
    "    for _ in range(n):\n",
    "        aux.append(buildMut(seq, nucleotides))\n",
    "    \n",
    "    return np.array(aux)\n",
    "\n",
    "def autoTestCPU(mtrx, nucleotides, rep = 10):\n",
    "    \"\"\"\n",
    "        Automatização para os testes tradicionais\n",
    "    \"\"\"\n",
    "    tempList = []\n",
    "    seqTList = []\n",
    "    \n",
    "    for i in tqdm(range(rep)):\n",
    "        try:\n",
    "            # Marca o inicio do processo\n",
    "            start = timeit.default_timer()\n",
    "\n",
    "            dataArt = mtrx[:, :100*(i+1)]\n",
    "\n",
    "            # Conta\n",
    "            finalCPU = countPos(nucleotides, dataArt)\n",
    "            # Marca o fim do processo\n",
    "            stop = timeit.default_timer()\n",
    "            # Mostra o resultado\n",
    "            cpuT = stop - start\n",
    "            tempList.append(cpuT)\n",
    "            seqTList.append(dataArt.shape[1])\n",
    "        except:\n",
    "            break\n",
    "            \n",
    "    return seqTList, tempList, finalCPU\n",
    "\n",
    "def autoTestSpr(mtrx, nucleotides, rep = 10):\n",
    "    \"\"\"\n",
    "        Automatização para os testes Spark\n",
    "    \"\"\"\n",
    "    tempList = []\n",
    "    seqTList = []\n",
    "    \n",
    "    for i in tqdm(range(rep)):\n",
    "        try:\n",
    "            dataArt = mtrx[:, :100*(i+1)]\n",
    "\n",
    "            # Marca o inicio do processo\n",
    "            start = timeit.default_timer()\n",
    "            # Inicializar  o Spark\n",
    "            spark:SparkSession = SparkSession.builder \\\n",
    "                .master(\"local[*]\") \\\n",
    "                .appName(\"Conta_Mutacoes\") \\\n",
    "                .config(\"spark.executor.memory\", '15g') \\\n",
    "                .config(\"spark.driver.memory\", '15g') \\\n",
    "                .getOrCreate()\n",
    "\n",
    "            # 1 - np.transpose é utilizado para inverter as posições das colunas e das linhas\n",
    "            # 2 - parallelize distribui os processos entre os recursos disponíveis, nesse exemplo\n",
    "            #     núcleos do processador\n",
    "            # 3 - map, aplica uma função para cada subdivisão passada pelo RDD\n",
    "            # 4 - Lambda, recebe a função que faz a contagem dos caracteres\n",
    "\n",
    "            rdd = spark.sparkContext.parallelize(np.transpose(dataArt))\\\n",
    "                    .map(lambda x: np.char.count(\"\".join(x), nucleotides))\n",
    "\n",
    "            # Armazena o resultado gerado pelo Spark\n",
    "            finalSpark = rdd.collect()\n",
    "\n",
    "            # Finaliza o processod o Spark\n",
    "            spark.stop()\n",
    "            # Marca o fim do processo\n",
    "            stop = timeit.default_timer()\n",
    "            # Mostra o resultado\n",
    "            spkT = stop - start\n",
    "            tempList.append(spkT)\n",
    "            seqTList.append(dataArt.shape[1])\n",
    "        except:\n",
    "            break\n",
    "            \n",
    "    return seqTList, tempList#, finalSpark\n"
   ]
  },
  {
   "cell_type": "code",
   "execution_count": 10,
   "id": "0b86128b",
   "metadata": {
    "ExecuteTime": {
     "end_time": "2021-07-11T00:42:27.536489Z",
     "start_time": "2021-07-11T00:41:02.944214Z"
    }
   },
   "outputs": [],
   "source": [
    "# Cria matriz artificial para teste\n",
    "\n",
    "# Cria a matriz de sequências \n",
    "rep = 500           # Multiplicador do tamanho final de cada amostra\n",
    "seqTam = 100*rep     # 5000\n",
    "masterSeq = buildSeq(NUCL, seqTam) # Contstrói sequência 'mãe'\n",
    "# Número total de seuqências\n",
    "repetitions = 5000  # 5000\n",
    "dataArt = baseMatrix(masterSeq, NUCL, repetitions) # Contstrói matriz com as sequencias e suas variações."
   ]
  },
  {
   "cell_type": "code",
   "execution_count": 51,
   "id": "9b0a3a36",
   "metadata": {
    "ExecuteTime": {
     "end_time": "2021-07-10T23:08:16.879949Z",
     "start_time": "2021-07-10T21:51:27.366043Z"
    },
    "scrolled": true
   },
   "outputs": [
    {
     "name": "stderr",
     "output_type": "stream",
     "text": [
      "100%|██████████| 500/500 [4:57:37<00:00, 35.71s/it]  \n"
     ]
    }
   ],
   "source": [
    "# Executa os testes tradicionais e salvo os resultados\n",
    "seqSizeCPU, tempListCPU, finalCPU = autoTestCPU(dataArt, NUCL, rep)\n",
    "save('CPU.txt', seqSizeCPU, tempListCPU)"
   ]
  },
  {
   "cell_type": "code",
   "execution_count": 12,
   "id": "5f309d90",
   "metadata": {
    "ExecuteTime": {
     "end_time": "2021-07-11T01:27:16.955736Z",
     "start_time": "2021-07-11T00:48:30.204796Z"
    },
    "scrolled": true
   },
   "outputs": [
    {
     "name": "stderr",
     "output_type": "stream",
     "text": [
      " 60%|█████▉    | 298/500 [56:10<38:04, 11.31s/it]  \n"
     ]
    }
   ],
   "source": [
    "# Executa testes do Spark e salvo os resultados\n",
    "seqSizeSpr, tempListSpr = autoTestSpr(dataArt, NUCL, rep)#finalSpr\n",
    "save('Spark.txt', seqSizeSpr, tempListSpr)"
   ]
  },
  {
   "cell_type": "code",
   "execution_count": 13,
   "id": "d61425e0",
   "metadata": {
    "ExecuteTime": {
     "end_time": "2021-07-11T01:55:36.136649Z",
     "start_time": "2021-07-11T01:55:36.108627Z"
    }
   },
   "outputs": [
    {
     "name": "stdout",
     "output_type": "stream",
     "text": [
      "<class 'pandas.core.frame.DataFrame'>\n",
      "RangeIndex: 500 entries, 0 to 499\n",
      "Data columns (total 2 columns):\n",
      " #   Column  Non-Null Count  Dtype  \n",
      "---  ------  --------------  -----  \n",
      " 0   Size    500 non-null    int64  \n",
      " 1   CPU     500 non-null    float64\n",
      "dtypes: float64(1), int64(1)\n",
      "memory usage: 7.9 KB\n",
      "<class 'pandas.core.frame.DataFrame'>\n",
      "RangeIndex: 298 entries, 0 to 297\n",
      "Data columns (total 2 columns):\n",
      " #   Column  Non-Null Count  Dtype  \n",
      "---  ------  --------------  -----  \n",
      " 0   Size    298 non-null    int64  \n",
      " 1   Spark   298 non-null    float64\n",
      "dtypes: float64(1), int64(1)\n",
      "memory usage: 4.8 KB\n"
     ]
    },
    {
     "data": {
      "text/plain": [
       "None"
      ]
     },
     "metadata": {},
     "output_type": "display_data"
    },
    {
     "data": {
      "text/plain": [
       "None"
      ]
     },
     "metadata": {},
     "output_type": "display_data"
    }
   ],
   "source": [
    "# Uso o pandas para carregar os resultados salvos anteriormente \n",
    "# e adiciono em dataframes\n",
    "import pandas as pd\n",
    "\n",
    "cpuDf = pd.read_csv('CPU.txt', names=['Size', \"CPU\"])\n",
    "sprDf =  pd.read_csv('Spark.txt', names=['Size', \"Spark\"])\n",
    "display(cpuDf.info(), sprDf.info())"
   ]
  },
  {
   "cell_type": "code",
   "execution_count": 14,
   "id": "41f4f2de",
   "metadata": {
    "ExecuteTime": {
     "end_time": "2021-07-11T02:00:12.874822Z",
     "start_time": "2021-07-11T02:00:12.864832Z"
    }
   },
   "outputs": [],
   "source": [
    "# Reestruturo o dataframe com melt\n",
    "dataDf = pd.concat([sprDf.melt(id_vars='Size', var_name='Tipo', value_name='Time'),\\\n",
    "                    cpuDf.melt(id_vars='Size', var_name='Tipo', value_name='Time')])\n",
    "\n",
    "dataDf.reset_index(drop=True, inplace=True)"
   ]
  },
  {
   "cell_type": "markdown",
   "id": "0078b5a8",
   "metadata": {},
   "source": [
    "### Resultado"
   ]
  },
  {
   "cell_type": "code",
   "execution_count": 34,
   "id": "ee5e6dd5",
   "metadata": {
    "ExecuteTime": {
     "end_time": "2021-07-11T02:24:08.872438Z",
     "start_time": "2021-07-11T02:24:08.639451Z"
    }
   },
   "outputs": [
    {
     "data": {
      "image/png": "[encoded data removed]",
      "text/plain": [
       "<Figure size 1440x576 with 1 Axes>"
      ]
     },
     "metadata": {},
     "output_type": "display_data"
    }
   ],
   "source": [
    "# Gero os gráficos com o resultado\n",
    "import seaborn as sns\n",
    "sns.set_style(\"whitegrid\", {'grid.linestyle': '--'})\n",
    "fig, ax = plt.subplots(figsize=(20,8))\n",
    "# sns.lineplot(x=\"Size\", y=\"Spark\", data=sprDf, ax=ax)\n",
    "sns.lineplot(data=dataDf, x='Size', y='Time', hue='Tipo', ax=ax)\n",
    "\n",
    "maxSpr, maxTrad = dataDf.groupby('Tipo').Time.max()\n",
    "nthSpr, nthTrad = dataDf.groupby('Tipo').Time.nth(-1)\n",
    "\n",
    "# Aestetic\n",
    "ax.set_title(\"Tempo de execução por tamanho de sequência\", fontdict={'fontsize':24})\n",
    "ax.set_xlabel('Tamanho', fontdict={'fontsize':14})\n",
    "ax.set_ylabel('Tempo(s)', fontdict={'fontsize':14})\n",
    "ax.set(xlim=[0, 30000])\n",
    "ax.legend([\"Spark\", \"'Convencional'\"], frameon=True, fontsize=15, loc='upper left')\n",
    "sns.despine(ax=ax)\n",
    "plt.show()"
   ]
  },
  {
   "cell_type": "code",
   "execution_count": null,
   "id": "c86a8356",
   "metadata": {
    "ExecuteTime": {
     "end_time": "2021-07-11T01:38:44.813693Z",
     "start_time": "2021-07-11T01:38:44.796702Z"
    }
   },
   "outputs": [],
   "source": []
  }
 ],
 "metadata": {
  "kernelspec": {
   "display_name": "Python 3 (ipykernel)",
   "language": "python",
   "name": "python3"
  },
  "language_info": {
   "codemirror_mode": {
    "name": "ipython",
    "version": 3
   },
   "file_extension": ".py",
   "mimetype": "text/x-python",
   "name": "python",
   "nbconvert_exporter": "python",
   "pygments_lexer": "ipython3",
   "version": "3.8.10"
  },
  "varInspector": {
   "cols": {
    "lenName": 16,
    "lenType": 16,
    "lenVar": 40
   },
   "kernels_config": {
    "python": {
     "delete_cmd_postfix": "",
     "delete_cmd_prefix": "del ",
     "library": "var_list.py",
     "varRefreshCmd": "print(var_dic_list())"
    },
    "r": {
     "delete_cmd_postfix": ") ",
     "delete_cmd_prefix": "rm(",
     "library": "var_list.r",
     "varRefreshCmd": "cat(var_dic_list()) "
    }
   },
   "position": {
    "height": "278.4px",
    "left": "1125px",
    "right": "20px",
    "top": "119px",
    "width": "359px"
   },
   "types_to_exclude": [
    "module",
    "function",
    "builtin_function_or_method",
    "instance",
    "_Feature"
   ],
   "window_display": false
  }
 },
 "nbformat": 4,
 "nbformat_minor": 5
}
